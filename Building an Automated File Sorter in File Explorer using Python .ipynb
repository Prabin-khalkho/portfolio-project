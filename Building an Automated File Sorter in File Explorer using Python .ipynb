{
 "cells": [
  {
   "cell_type": "code",
   "execution_count": null,
   "id": "a0c9934e-e3c2-4832-9999-1439221fa7a4",
   "metadata": {},
   "outputs": [],
   "source": []
  },
  {
   "cell_type": "code",
   "execution_count": null,
   "id": "bd5a96e5-6931-45f4-9fb1-aafb10250eb5",
   "metadata": {},
   "outputs": [],
   "source": []
  },
  {
   "cell_type": "code",
   "execution_count": null,
   "id": "97a99a94-5ad9-491d-a81d-41c74c4a8478",
   "metadata": {},
   "outputs": [],
   "source": []
  },
  {
   "cell_type": "code",
   "execution_count": null,
   "id": "b886bcc6-35ad-4a2c-90b5-9e162ac04f6a",
   "metadata": {},
   "outputs": [],
   "source": []
  },
  {
   "cell_type": "code",
   "execution_count": 61,
   "id": "93071517-6d33-44a0-8e74-583dca97555d",
   "metadata": {},
   "outputs": [
    {
     "name": "stdout",
     "output_type": "stream",
     "text": [
      "C:/Users/kumar/OneDrive - Chandigarh University/Desktop/New folder (3)/csv files\n",
      "C:/Users/kumar/OneDrive - Chandigarh University/Desktop/New folder (3)/image files\n",
      "C:/Users/kumar/OneDrive - Chandigarh University/Desktop/New folder (3)/text files\n",
      "C:/Users/kumar/OneDrive - Chandigarh University/Desktop/New folder (3)/pdf files\n"
     ]
    }
   ],
   "source": [
    "import os, shutil  # Import necessary modules\n",
    "# os: to interact with the file system\n",
    "# shutil: to move files from one folder to another\n",
    "\n",
    "# Set the path to the folder you want to organize\n",
    "path = r\"C:/Users/kumar/OneDrive - Chandigarh University/Desktop/New folder (3)/\"\n",
    "\n",
    "# List all files and folders present in the given directory\n",
    "file_name = os.listdir(path)\n",
    "\n",
    "# Define the folder names where files will be moved based on their types\n",
    "folder_names = ['csv files', 'image files', 'text files', 'pdf files']\n",
    "\n",
    "# Loop to create folders if they don't already exist\n",
    "for loop in range(0, 4):  # Loop from index 0 to 3 for all folder names\n",
    "    folder_path = path + folder_names[loop]  # Construct the full path\n",
    "    if not os.path.exists(folder_path):  # Check if folder already exists\n",
    "        print(\"Creating folder:\", folder_path)  # Optional: print message\n",
    "        os.makedirs(folder_path)  # Create the folder\n",
    "\n",
    "# Loop through all files in the directory\n",
    "for file in file_name:\n",
    "    # Check if the file is a .csv file and hasn't already been moved\n",
    "    if \".csv\" in file and not os.path.exists(path + \"csv files/\" + file):\n",
    "        shutil.move(path + file, path + \"csv files/\" + file)  # Move the file\n",
    "\n",
    "    # Check if the file is a .jpeg image and hasn't already been moved\n",
    "    elif \".jpeg\" in file and not os.path.exists(path + \"image files/\" + file):\n",
    "        shutil.move(path + file, path + \"image files/\" + file)\n",
    "\n",
    "    # Check if the file is a .txt text file and hasn't already been moved\n",
    "    elif \".txt\" in file and not os.path.exists(path + \"text files/\" + file):\n",
    "        shutil.move(path + file, path + \"text files/\" + file)\n",
    "\n",
    "    # Check if the file is a .pdf file and hasn't already been moved\n",
    "    elif \".pdf\" in file and not os.path.exists(path + \"pdf files/\" + file):\n",
    "        shutil.move(path + file, path + \"pdf files/\" + file)\n",
    "\n",
    "# After the script runs, your files will be sorted into their respective folders.\n",
    "# You can add more extensions and folders using the same pattern above.\n"
   ]
  },
  {
   "cell_type": "code",
   "execution_count": null,
   "id": "189fd21f-a482-42b9-bc0d-0633ec6ece6c",
   "metadata": {},
   "outputs": [],
   "source": []
  },
  {
   "cell_type": "code",
   "execution_count": null,
   "id": "8e60ef6f-19ce-4d42-94f9-68d7f836dc72",
   "metadata": {},
   "outputs": [],
   "source": []
  },
  {
   "cell_type": "code",
   "execution_count": null,
   "id": "41831bed-7bcd-4870-8ad9-01f787d1652b",
   "metadata": {},
   "outputs": [],
   "source": []
  },
  {
   "cell_type": "code",
   "execution_count": null,
   "id": "30ec0a0e-964c-4503-8a6a-2b2ac087effb",
   "metadata": {},
   "outputs": [],
   "source": []
  },
  {
   "cell_type": "code",
   "execution_count": null,
   "id": "0c80ca0d-9c76-4ab4-996f-423632e3e8f5",
   "metadata": {},
   "outputs": [],
   "source": []
  },
  {
   "cell_type": "code",
   "execution_count": null,
   "id": "d8417f43-bf59-4bd9-bb79-176fef927657",
   "metadata": {},
   "outputs": [],
   "source": []
  },
  {
   "cell_type": "code",
   "execution_count": null,
   "id": "3c7de429-3982-429c-91a4-c62bd00ec1da",
   "metadata": {},
   "outputs": [],
   "source": []
  },
  {
   "cell_type": "code",
   "execution_count": null,
   "id": "38e7df08-54e3-425d-a838-04431a13313a",
   "metadata": {},
   "outputs": [],
   "source": []
  },
  {
   "cell_type": "code",
   "execution_count": null,
   "id": "27a0689d-226f-412c-88c6-53b7db940b6d",
   "metadata": {},
   "outputs": [],
   "source": []
  },
  {
   "cell_type": "code",
   "execution_count": null,
   "id": "a2c46ae2-58b3-49c2-a9ec-b06b7b988e10",
   "metadata": {},
   "outputs": [],
   "source": []
  },
  {
   "cell_type": "code",
   "execution_count": null,
   "id": "d7627c2e-18ea-4249-8672-44a44e8af597",
   "metadata": {},
   "outputs": [],
   "source": []
  }
 ],
 "metadata": {
  "kernelspec": {
   "display_name": "Python [conda env:base] *",
   "language": "python",
   "name": "conda-base-py"
  },
  "language_info": {
   "codemirror_mode": {
    "name": "ipython",
    "version": 3
   },
   "file_extension": ".py",
   "mimetype": "text/x-python",
   "name": "python",
   "nbconvert_exporter": "python",
   "pygments_lexer": "ipython3",
   "version": "3.12.7"
  }
 },
 "nbformat": 4,
 "nbformat_minor": 5
}
